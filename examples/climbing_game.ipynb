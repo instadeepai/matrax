{
 "cells": [
  {
   "cell_type": "markdown",
   "metadata": {},
   "source": [
    "# Climbing Game Environment"
   ]
  },
  {
   "cell_type": "code",
   "execution_count": 3,
   "metadata": {},
   "outputs": [],
   "source": [
    "%%capture\n",
    "!pip install matrax"
   ]
  },
  {
   "cell_type": "code",
   "execution_count": 4,
   "metadata": {},
   "outputs": [],
   "source": [
    "# imports\n",
    "import jax\n",
    "import jax.numpy as jnp\n",
    "\n",
    "import matrax"
   ]
  },
  {
   "cell_type": "markdown",
   "metadata": {},
   "source": [
    "### Make stateless environment\n",
    "\n",
    "A **stateless** matrix game is a game that is presented to both players at each iteration without any knowledge of what has happened in previous iterations of playing the game. Concretely, agents receive as \"state\" a zero vector of size `(num_agents,)`, and this vector is not updated at any time."
   ]
  },
  {
   "cell_type": "code",
   "execution_count": 5,
   "metadata": {},
   "outputs": [],
   "source": [
    "# make environment (without keeping state)\n",
    "env = matrax.make(\"Climbing-stateless-v0\")"
   ]
  },
  {
   "cell_type": "code",
   "execution_count": 6,
   "metadata": {},
   "outputs": [
    {
     "data": {
      "text/plain": [
       "MatrixGame(\n",
       "\tpayoff_matrix=Array([[[ 11, -30,   0],\n",
       "        [-30,   7,   0],\n",
       "        [  0,   6,   5]],\n",
       "\n",
       "       [[ 11, -30,   0],\n",
       "        [-30,   7,   0],\n",
       "        [  0,   6,   5]]], dtype=int32),\n",
       ")"
      ]
     },
     "execution_count": 6,
     "metadata": {},
     "output_type": "execute_result"
    }
   ],
   "source": [
    "# print environment\n",
    "env"
   ]
  },
  {
   "cell_type": "markdown",
   "metadata": {},
   "source": [
    "### Reset and Step"
   ]
  },
  {
   "cell_type": "code",
   "execution_count": 7,
   "metadata": {},
   "outputs": [
    {
     "name": "stdout",
     "output_type": "stream",
     "text": [
      "state: State(step_count=Array(0, dtype=int32), key=Array([0, 0], dtype=uint32))\n",
      "timestep: TimeStep(step_type=Array(0, dtype=int8), reward=Array(0., dtype=float32), discount=Array(1., dtype=float32), observation=Observation(agent_obs=Array([[0, 0],\n",
      "       [0, 0]], dtype=int32), step_count=Array(0, dtype=int32)), extras=None)\n"
     ]
    }
   ],
   "source": [
    "# Reset your (jit-able) environment\n",
    "key = jax.random.PRNGKey(0)\n",
    "state, timestep = jax.jit(env.reset)(key)\n",
    "print(\"state:\", state)\n",
    "print(\"timestep:\", timestep)"
   ]
  },
  {
   "cell_type": "code",
   "execution_count": 8,
   "metadata": {},
   "outputs": [
    {
     "name": "stdout",
     "output_type": "stream",
     "text": [
      "state: State(step_count=Array(1, dtype=int32), key=Array([0, 0], dtype=uint32))\n",
      "timestep: TimeStep(step_type=Array(1, dtype=int8), reward=Array([-30, -30], dtype=int32), discount=Array(1., dtype=float32), observation=Observation(agent_obs=Array([[0, 0],\n",
      "       [0, 0]], dtype=int32), step_count=Array(1, dtype=int32)), extras=None)\n"
     ]
    }
   ],
   "source": [
    "# Interact with the (jit-able) environment\n",
    "actions = jnp.array([0, 1])\n",
    "state, timestep = jax.jit(env.step)(state, actions)   # Take a step and observe the next state and time step\n",
    "print(\"state:\", state)\n",
    "print(\"timestep:\", timestep)"
   ]
  },
  {
   "cell_type": "markdown",
   "metadata": {},
   "source": [
    "Note the \"state\" in terms of the agents' observations have not change, i.e. agents' observations remain a zero vector irrespective of the actions they take. However, each agent has received a reward based on the joint actions of the agents."
   ]
  },
  {
   "cell_type": "markdown",
   "metadata": {},
   "source": [
    "### Make stateful environment\n",
    "\n",
    "A **stateful** matrix game is a game where agents have knowledge of what happened in the previous iteration of playing the game in term of the actions selected by each agent. Concretely, at step `t` agents receive as \"state\" a vector of size `(num_agents,)` containing the agent each agent took at step `t-1`."
   ]
  },
  {
   "cell_type": "code",
   "execution_count": 9,
   "metadata": {},
   "outputs": [],
   "source": [
    "# make environment (with keeping state)\n",
    "env = matrax.make(\"Climbing-stateful-v0\")"
   ]
  },
  {
   "cell_type": "markdown",
   "metadata": {},
   "source": [
    "### Reset and Step"
   ]
  },
  {
   "cell_type": "code",
   "execution_count": 10,
   "metadata": {},
   "outputs": [
    {
     "name": "stdout",
     "output_type": "stream",
     "text": [
      "state: State(step_count=Array(0, dtype=int32), key=Array([0, 0], dtype=uint32))\n",
      "timestep: TimeStep(step_type=Array(0, dtype=int8), reward=Array(0., dtype=float32), discount=Array(1., dtype=float32), observation=Observation(agent_obs=Array([[-1, -1],\n",
      "       [-1, -1]], dtype=int32), step_count=Array(0, dtype=int32)), extras=None)\n"
     ]
    }
   ],
   "source": [
    "# Reset your (jit-able) environment\n",
    "state, timestep = jax.jit(env.reset)(key)\n",
    "print(\"state:\", state)\n",
    "print(\"timestep:\", timestep)"
   ]
  },
  {
   "cell_type": "code",
   "execution_count": 17,
   "metadata": {},
   "outputs": [
    {
     "name": "stdout",
     "output_type": "stream",
     "text": [
      "state: State(step_count=Array(1, dtype=int32), key=Array([0, 0], dtype=uint32))\n",
      "timestep: TimeStep(step_type=Array(1, dtype=int8), reward=Array([-30, -30], dtype=int32), discount=Array(1., dtype=float32), observation=Observation(agent_obs=Array([[0, 1],\n",
      "       [0, 1]], dtype=int32), step_count=Array(1, dtype=int32)), extras=None)\n"
     ]
    }
   ],
   "source": [
    "# Interact with the (jit-able) environment\n",
    "state, timestep = jax.jit(env.step)(state, actions)   # Take a step and observe the next state and time step\n",
    "print(\"state:\", state)\n",
    "print(\"timestep:\", timestep)"
   ]
  },
  {
   "cell_type": "markdown",
   "metadata": {},
   "source": [
    "Note the \"state\" is updated as each agent has as observation that consists of the actions of all agents in the previous step. "
   ]
  }
 ],
 "metadata": {
  "kernelspec": {
   "display_name": "venv",
   "language": "python",
   "name": "python3"
  },
  "language_info": {
   "codemirror_mode": {
    "name": "ipython",
    "version": 3
   },
   "file_extension": ".py",
   "mimetype": "text/x-python",
   "name": "python",
   "nbconvert_exporter": "python",
   "pygments_lexer": "ipython3",
   "version": "3.8.0"
  },
  "orig_nbformat": 4
 },
 "nbformat": 4,
 "nbformat_minor": 2
}
